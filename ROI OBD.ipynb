{
 "cells": [
  {
   "cell_type": "code",
   "execution_count": 1,
   "id": "aceb4368",
   "metadata": {},
   "outputs": [],
   "source": [
    "import numpy as np\n",
    "import cv2 as cv\n",
    "from matplotlib import pyplot as plt\n",
    "import glob\n",
    "import os\n",
    "import time"
   ]
  },
  {
   "cell_type": "code",
   "execution_count": 2,
   "id": "01cbe008",
   "metadata": {},
   "outputs": [],
   "source": [
    "start_time = time.time()\n",
    "\n",
    "image_folder = r\"C:/Users/Amin/Documents/Breast Cancer Project/mamograph data/test/cancer\"\n",
    "output_folder = r\"C:/Users/Amin/Documents/Breast Cancer Project/mamograph data\\test/ROI-OBD-cancer\"\n",
    "\n",
    "image_files = glob.glob(os.path.join(image_folder, '*.png'))\n",
    "\n",
    "test_crop = r'C:/Users/Amin/Documents/Breast Cancer Project/mamograph data/test/cancer/A_1178_1.LEFT_CC.png'\n",
    "\n",
    "tst_crop = cv.imread(test_crop, cv.IMREAD_GRAYSCALE)\n",
    "\n",
    "orb = cv.ORB_create()\n"
   ]
  },
  {
   "cell_type": "code",
   "execution_count": 5,
   "id": "230c85d6",
   "metadata": {},
   "outputs": [
    {
     "name": "stdout",
     "output_type": "stream",
     "text": [
      "elapsed time : 388.6825647354126 sec\n"
     ]
    }
   ],
   "source": [
    "for path in image_files:\n",
    "    raw_img = cv.imread(path, cv.IMREAD_GRAYSCALE)\n",
    "\n",
    "    standard_kp, standard_des = orb.detectAndCompute(tst_crop, None)\n",
    "    target_kp, target_des = orb.detectAndCompute(raw_img, None)\n",
    "\n",
    "    bf = cv.BFMatcher(cv.NORM_HAMMING, crossCheck=True)\n",
    "\n",
    "    matches = bf.match(standard_des, target_des)\n",
    "\n",
    "    matches = sorted(matches, key=lambda x: x.distance)\n",
    "\n",
    "    # Extract matching keypoints\n",
    "    matched_kp = []\n",
    "    for m in matches:\n",
    "        matched_kp.append(target_kp[m.trainIdx])\n",
    "\n",
    "    x = [kp.pt[0] for kp in matched_kp]\n",
    "    y = [kp.pt[1] for kp in matched_kp]\n",
    "    x_start = int(min(x))\n",
    "    x_end = int(max(x))\n",
    "    y_start = int(min(y))\n",
    "    y_end = int(max(y))\n",
    "\n",
    "    cropped = raw_img[y_start:y_end, x_start:x_end]\n",
    "    output_path = os.path.join(output_folder, os.path.basename(path))  # Save in the same folder with a different name\n",
    "    cv.imwrite(output_path, cropped)\n",
    "\n",
    "end_time = time.time()\n",
    "\n",
    "elapsed_time = end_time - start_time\n",
    "print(f\"elapsed time : {elapsed_time} sec\")"
   ]
  },
  {
   "cell_type": "code",
   "execution_count": null,
   "id": "e753f182",
   "metadata": {},
   "outputs": [],
   "source": []
  }
 ],
 "metadata": {
  "kernelspec": {
   "display_name": "Python 3 (ipykernel)",
   "language": "python",
   "name": "python3"
  },
  "language_info": {
   "codemirror_mode": {
    "name": "ipython",
    "version": 3
   },
   "file_extension": ".py",
   "mimetype": "text/x-python",
   "name": "python",
   "nbconvert_exporter": "python",
   "pygments_lexer": "ipython3",
   "version": "3.10.9"
  }
 },
 "nbformat": 4,
 "nbformat_minor": 5
}
